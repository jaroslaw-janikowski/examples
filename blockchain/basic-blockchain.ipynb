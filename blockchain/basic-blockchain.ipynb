{
 "cells": [
  {
   "cell_type": "markdown",
   "metadata": {},
   "source": [
    "# Definiowanie zawartości bloku"
   ]
  },
  {
   "cell_type": "code",
   "execution_count": null,
   "metadata": {},
   "outputs": [],
   "source": [
    "\n",
    "import random\n",
    "import hashlib\n",
    "\n",
    "\n",
    "class Block:\n",
    "    def __init__(self, **args):\n",
    "        self.block_id = None\n",
    "        self.value = 0\n",
    "        self.prev_id = None\n",
    "        self.prev_hash = None\n",
    "\n",
    "        for name, val in args.items():\n",
    "            setattr(self, name, val)\n",
    "\n",
    "    def get_hash(self):\n",
    "        b = f'{self.block_id};{self.value};{self.prev_id};{self.prev_hash}'.encode('utf-8')\n",
    "        return hashlib.sha256(b).hexdigest()\n",
    "\n",
    "    def __iter__(self):\n",
    "        for i in [a for a in dir(self) if not a.startswith('__') and not a == 'get_hash']:\n",
    "            yield i\n",
    "\n",
    "    def __repr__(self):\n",
    "        items = []\n",
    "        for name in self:\n",
    "            at = getattr(self, name)\n",
    "            items.append(f'{name}-{at}')\n",
    "        items = ' '.join(items)\n",
    "        return f'<Block: {items}'\n",
    "\n",
    "#test\n",
    "# b = Block(block_id=12, value='sgdfg', prev_id=2, prev_hash='dsdgfg')\n",
    "# b.get_hash()"
   ]
  },
  {
   "cell_type": "code",
   "execution_count": null,
   "metadata": {},
   "outputs": [],
   "source": [
    "chain = []\n",
    "last_hash = ''\n",
    "\n",
    "for i in range(10):\n",
    "    prev_id = i - 1\n",
    "    if prev_id < 0:\n",
    "        prev_id = None\n",
    "        \n",
    "    b = Block(block_id=i, value=random.randint(0, 100), prev_id=prev_id, prev_hash=last_hash)\n",
    "    last_hash = b.get_hash()\n",
    "    chain.append(b)\n",
    "\n",
    "# chain"
   ]
  },
  {
   "cell_type": "markdown",
   "metadata": {},
   "source": [
    "# Sprawdzanie czy elementy nie są sfałszowane\n"
   ]
  },
  {
   "cell_type": "code",
   "execution_count": null,
   "metadata": {},
   "outputs": [],
   "source": [
    "def is_valid(chain, block):\n",
    "    chain.sort(key=lambda x: x.block_id)\n",
    "    l = chain[:block.block_id]\n",
    "    \n",
    "    i = len(l)-1\n",
    "    while i > 0:\n",
    "        if l[i-1].get_hash() != l[i].prev_hash:\n",
    "            return False\n",
    "        i -= 1\n",
    "    \n",
    "    return True\n",
    "\n",
    "# test bad hash\n",
    "# chain[2].prev_hash = 'dgfdg'\n",
    "\n",
    "is_valid(chain, chain[3])"
   ]
  },
  {
   "cell_type": "code",
   "execution_count": null,
   "metadata": {},
   "outputs": [],
   "source": []
  }
 ],
 "metadata": {
  "kernelspec": {
   "display_name": "Python 3",
   "language": "python",
   "name": "python3"
  },
  "language_info": {
   "codemirror_mode": {
    "name": "ipython",
    "version": 3
   },
   "file_extension": ".py",
   "mimetype": "text/x-python",
   "name": "python",
   "nbconvert_exporter": "python",
   "pygments_lexer": "ipython3",
   "version": "3.6.9"
  }
 },
 "nbformat": 4,
 "nbformat_minor": 2
}
